{
 "cells": [
  {
   "cell_type": "markdown",
   "metadata": {},
   "source": [
    "# Weapon target assignment\n",
    "\n",
    "Versione WTA con **ricerca esaustiva**\n",
    "\n",
    "---\n",
    "Per commenti, modifiche et al. contattateci via email:\n",
    "- marco.vannucci@santannapisa.it\n",
    "- valentina.colla@santannapisa.it"
   ]
  },
  {
   "cell_type": "markdown",
   "metadata": {},
   "source": [
    "## Importazioni e variabili globali"
   ]
  },
  {
   "cell_type": "code",
   "execution_count": 1,
   "metadata": {},
   "outputs": [],
   "source": [
    "import numpy as np\n",
    "hc=0 ## questa è una variabile globale"
   ]
  },
  {
   "cell_type": "markdown",
   "metadata": {},
   "source": [
    "## Funzioni accessorie"
   ]
  },
  {
   "cell_type": "markdown",
   "metadata": {},
   "source": [
    "### Calcolo possibili combinazioni *weapon-target*\n",
    "\n",
    "La funzione `combina` calcola tutte le possibili combinazioni di `N_weapon` armi su `N_target` bersagli e le mette nella matrice `all_mat`, le cui dimensioni sono note e precedentemente calcolate, essendo le combinazioni `N_target^N_weapon`"
   ]
  },
  {
   "cell_type": "code",
   "execution_count": 2,
   "metadata": {},
   "outputs": [],
   "source": [
    "def combina(lista_b, N_weapon, N_target, out_mat, out_pos, all_mat):\n",
    "    global hc\n",
    "    for k in range(N_target):\n",
    "        out_mat[out_pos]=lista_b[k]\n",
    "        if N_weapon>1:\n",
    "            combina(lista_b,N_weapon-1,N_target,out_mat,out_pos+1, all_mat)\n",
    "        else:\n",
    "            #print(out_mat) serve a visualizzare tutte le possibili combinazioni armi-bersaglio\n",
    "            all_mat[hc]=out_mat\n",
    "            hc=hc+1\n",
    "    return"
   ]
  },
  {
   "cell_type": "markdown",
   "metadata": {},
   "source": [
    "### Funzione obiettivo\n",
    "\n",
    "La funzione `valuta_comb` calcola la funzione obiettivo da **minimizzare** per la combinazione armi-bersagli, contenuta nel vettore `combin`, che è il primo argomento.\n",
    "\n",
    "La funzione obiettivo è la somma dei prodotti del valore di ciascun bersaglio moltiplicato per la probabilità  che esso sopravviva alle armi che sono a lui assegnate, che è *1 - la probabilità che l'arma colpisca il bersaglio*. \n",
    "\n",
    "La matrice delle probabilità che ciascun tipo di arma ha di colpire il bersaglio è uno degli argomenti, ossia `Mat_prob`. \n",
    "Fra gli argomenti passo anche il vettore `vett_W` che contiene il tipo di ciascuna delle armi della combinazione.\n",
    "la funzione di compone di due cicli annidati.\n",
    "\n",
    "**I cicli:**\n",
    "- Il ciclo esterno itera sui bersagli e quindi calcola i singoli addendi della funzione obiettivo.\n",
    "- Il ciclo interno itera sulle armi e serve a calcolare la probabailità che ciascun bersaglio sopravvivva all'attacco, che è una produttoria delle probabilità che ha di sopravvivere a ciascuna delle armi. Se un'arma è assegnata proprio a lui, il fattore della produttoria è *(1-p)*, se invece non lo è, il fattore della produttoria è *1* e  quindi, in pratica, non si fa alcuna moltiplicazione.\n"
   ]
  },
  {
   "cell_type": "code",
   "execution_count": 3,
   "metadata": {},
   "outputs": [],
   "source": [
    "def valuta_comb(combin, vett_W, Mat_prob, valori_T):\n",
    "    valore=0\n",
    "    n_T=len(valori_T)\n",
    "    n_W=len(combin)\n",
    "    for i in range(n_T): # il ciclo esterno calcola ogni addendo della funzione obiettivo da minimizzare, relativo a ciascun target\n",
    "        prob_sopravv_target=1;\n",
    "        for j in range(n_W):\n",
    "            if combin[j]==int(i+1): # Il ciclo interno calcola la probabilità  di sopravvivenza di ciascun target \n",
    "                prob_sopravv_target*=(1-Mat_prob[vett_W[j]-1,i])\n",
    "        valore+=valori_T[i]*prob_sopravv_target\n",
    "    return valore"
   ]
  },
  {
   "cell_type": "markdown",
   "metadata": {},
   "source": [
    "## Main\n",
    "\n",
    "Parametri specificati dall'utente:\n",
    "- il numero dei bersagli\n",
    "- il numero di tipi di armi.\n",
    "\n",
    "Parametri settati automaticamente:\n",
    "- il valore dei bersagli è un valore intero casuale tra 0 e 100\n",
    "- la probabilità che un tipo di arma colpisca ciascun bersaglio è anche essa casuale\n",
    "\n",
    "**Codifica soluzione**\n",
    "\n",
    "Ogni combinazione armi-bersagli è codificata come una *stringa di interi* di lunghezza pari al numero totale di armi disponibili, **nell'ordine in cui i tipi vengono forniti**.\n",
    "\n",
    "> **Ad esempio**: se io ho 2 armi di tipo A e 3 armi di tipo B, la combinazione è lunga 5 e così composta [A1, A2, B1, B2, B3]\n",
    "\n",
    "Il contenuto di ciascun elemento è il numero del target a cui l'arma corrispondente è assegnata.\n",
    "Chiaramente, armi dello stesso tipo hanno la medesima probabilità  di colpire ogni bersaglio.\n",
    "La matrice delle probabilità  che ciascun tipo di arma ha di colpire ogni bersaglio si chiama `Mat_prob_cogliere_bersagli` ed ha tante righe quante sono i tipi di armi e tante colonne quante sono i bersagli.\n",
    "\n",
    "> Ho creato anche una lista che ha tante righe quane i tipi di armi, che è una lista mista, che contiene per ogni riga il nome del tipo di arma, il numero di armi di quel tipo e il vettore delle probabilità  che questo tipo di arma colpisca i diversi bersagli.\n",
    "Questa lista non serve assolutamente a niente, l'ho creata per sfizio e come struttura dati che raccoglie tutte le informazioni relative alle ami. "
   ]
  },
  {
   "cell_type": "code",
   "execution_count": 10,
   "metadata": {},
   "outputs": [
    {
     "name": "stdin",
     "output_type": "stream",
     "text": [
      "Quanti bersagli ci sono?  5\n"
     ]
    },
    {
     "name": "stdout",
     "output_type": "stream",
     "text": [
      "\n",
      "   Bersaglio     Valore\n",
      "           1         22\n",
      "           2          2\n",
      "           3         35\n",
      "           4         83\n",
      "           5         51\n"
     ]
    }
   ],
   "source": [
    "n_bersagli=int(input('Quanti bersagli ci sono? ') )\n",
    "#lista_bersagli = [1, 2, 3]\n",
    "lista_bersagli=list(range(1,n_bersagli+1))\n",
    "\n",
    "# determino casualmente il valore di ciascun bersaglio\n",
    "Valori_bersagli = np.array(100*np.random.rand(n_bersagli),dtype=int)\n",
    "\n",
    "print('\\n%12s   %8s'%('Bersaglio','Valore'))\n",
    "for i in lista_bersagli:\n",
    "    print('%12d   %8d'%(i,Valori_bersagli[i-1]))"
   ]
  },
  {
   "cell_type": "code",
   "execution_count": 11,
   "metadata": {},
   "outputs": [
    {
     "name": "stdin",
     "output_type": "stream",
     "text": [
      "Quanti tipi di armi ci sono?  2\n",
      "Quante armi ci sono del tipo WEATYPE_0?  3\n",
      "Quante armi ci sono del tipo WEATYPE_1?  3\n"
     ]
    }
   ],
   "source": [
    "# inserimento tipologia e delle armi\n",
    "n_tipo_armi=int(input('Quanti tipi di armi ci sono? ') )\n",
    "\n",
    "# numero di armi per ciascun tipo \n",
    "cont_armi_per_tipo=np.zeros(n_tipo_armi, dtype=int)\n",
    "\n",
    "# matrice con la probabilità, per ciascuna tipologia di arma, di colpire ciascun bersaglio\n",
    "Mat_prob_cogliere_bersagli=np.zeros([n_tipo_armi,n_bersagli])\n",
    "\n",
    "# descrittore del set di armi (include nome, tipo e le probabilità di colpire i bersagli)\n",
    "lista_armi=[] \n",
    "\n",
    "\n",
    "for j in range(n_tipo_armi):\n",
    "    nome = 'WEATYPE_%d'%j\n",
    "    probab_cogliere_bersagli=np.random.rand(n_bersagli)\n",
    "    Mat_prob_cogliere_bersagli[j]=probab_cogliere_bersagli\n",
    "    testo ='Quante armi ci sono del tipo '+ nome + '? '\n",
    "    cont_armi_per_tipo[j]=input(testo)\n",
    "    lista_armi.append([nome, cont_armi_per_tipo[j],probab_cogliere_bersagli])\n",
    "\n",
    "    \n",
    "#for l in lista_armi:\n",
    "#    print(l)"
   ]
  },
  {
   "cell_type": "markdown",
   "metadata": {},
   "source": [
    "### Simulazione delle combinazioni"
   ]
  },
  {
   "cell_type": "code",
   "execution_count": 12,
   "metadata": {},
   "outputs": [
    {
     "name": "stdout",
     "output_type": "stream",
     "text": [
      "Saranno valutate 15625 combinazioni arma-target\n"
     ]
    },
    {
     "name": "stdin",
     "output_type": "stream",
     "text": [
      "Continuare? [s/n] s\n"
     ]
    },
    {
     "name": "stdout",
     "output_type": "stream",
     "text": [
      "s\n"
     ]
    }
   ],
   "source": [
    "W_tot=int(np.sum(cont_armi_per_tipo)) #numero totale delle armi\n",
    "Vec_tipo_armi=np.zeros(W_tot,dtype=int) #vettore con il tipo di ciascuna arma\n",
    "offset=0\n",
    "for i in range(n_tipo_armi):\n",
    "    for j in range(cont_armi_per_tipo[i]):\n",
    "        Vec_tipo_armi[j+offset]=i+1;\n",
    "    offset+=cont_armi_per_tipo[i]\n",
    "    \n",
    "# adesso faccio decidere all'utente se andare avanti con il calcolo in base al numero effettivo delle combinazioni da valutare\n",
    "N_comb=int(n_bersagli**W_tot) #numero totale delle combinazioni armi-bersagli\n",
    "\n",
    "print('Saranno valutate %d combinazioni arma-target'%N_comb)\n",
    "cont=input('Continuare? [s/n]')\n",
    "\n",
    "print(cont)"
   ]
  },
  {
   "cell_type": "code",
   "execution_count": 13,
   "metadata": {},
   "outputs": [
    {
     "name": "stdout",
     "output_type": "stream",
     "text": [
      "la migliore combinazione è  [4 5 5 1 3 5]\n",
      "Il valore della funzione obiettivo in  [4 5 5 1 3 5]  è  18.541816439032353\n"
     ]
    }
   ],
   "source": [
    "if cont=='s':\n",
    "    Tutte_combin=np.zeros([N_comb, W_tot], dtype=int) #array che contiene tutte le associazioni possibili delle armi ai bersagli\n",
    "    assoc=np.zeros(W_tot)\n",
    "    out_pos=0\n",
    "    combina(lista_bersagli, W_tot, n_bersagli, assoc, out_pos, Tutte_combin)\n",
    "\n",
    "    Valore_combin=np.zeros(N_comb)\n",
    "    for i in range(N_comb):\n",
    "        Valore_combin[i]=valuta_comb(Tutte_combin[i],Vec_tipo_armi,Mat_prob_cogliere_bersagli,Valori_bersagli)\n",
    "    indx_Best=np.argmin(Valore_combin)\n",
    "    Best_combin=Tutte_combin[indx_Best]\n",
    "    Min_obj=min(Valore_combin)\n",
    "    print(\"la migliore combinazione è \", Best_combin)\n",
    "    print(\"Il valore della funzione obiettivo in \", Best_combin, \" è \", Min_obj)"
   ]
  },
  {
   "cell_type": "code",
   "execution_count": null,
   "metadata": {},
   "outputs": [],
   "source": []
  }
 ],
 "metadata": {
  "kernelspec": {
   "display_name": "Python 3.7.1 64-bit ('klaat': virtualenv)",
   "language": "python",
   "name": "python37164bitklaatvirtualenv68391259d5714fc793cf295373d8f8d2"
  },
  "language_info": {
   "codemirror_mode": {
    "name": "ipython",
    "version": 3
   },
   "file_extension": ".py",
   "mimetype": "text/x-python",
   "name": "python",
   "nbconvert_exporter": "python",
   "pygments_lexer": "ipython3",
   "version": "3.7.1"
  }
 },
 "nbformat": 4,
 "nbformat_minor": 4
}
